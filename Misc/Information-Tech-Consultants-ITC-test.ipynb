{
 "cells": [
  {
   "cell_type": "code",
   "execution_count": 172,
   "id": "36a93cc3",
   "metadata": {},
   "outputs": [],
   "source": [
    "import numpy as np\n",
    "import pandas as pd\n",
    "from matplotlib import pyplot as plt\n",
    "import seaborn as sns\n",
    "from statsmodels import api\n",
    "from scipy import stats\n",
    "from scipy.optimize import minimize \n",
    "import time\n",
    "from numpy.random import random as rnd\n",
    "from numpy.random import randint as rndi"
   ]
  },
  {
   "cell_type": "code",
   "execution_count": 3,
   "id": "dd45c9a6",
   "metadata": {},
   "outputs": [],
   "source": [
    "def even(start, n):\n",
    "    arange()"
   ]
  },
  {
   "cell_type": "code",
   "execution_count": 7,
   "id": "211acdac",
   "metadata": {},
   "outputs": [
    {
     "data": {
      "text/plain": [
       "[1, 2, 3, 4, 5, 6, 7, 8, 9]"
      ]
     },
     "execution_count": 7,
     "metadata": {},
     "output_type": "execute_result"
    }
   ],
   "source": [
    "list(range(1,10))"
   ]
  },
  {
   "cell_type": "code",
   "execution_count": 27,
   "id": "cfa33e80",
   "metadata": {},
   "outputs": [
    {
     "data": {
      "text/plain": [
       "[6, 8, 10, 12, 14, 16, 18, 20, 22, 24]"
      ]
     },
     "execution_count": 27,
     "metadata": {},
     "output_type": "execute_result"
    }
   ],
   "source": [
    "x = 6\n",
    "n = 10\n",
    "if x % 2 == 1:\n",
    "    x = x+1\n",
    "    y = list(range(x,2*n+x, 2))\n",
    "else:\n",
    "    y = list(range(x,2*n+x, 2))\n",
    "y"
   ]
  },
  {
   "cell_type": "code",
   "execution_count": 31,
   "id": "b63d67f2",
   "metadata": {},
   "outputs": [],
   "source": [
    "def even(start, n):\n",
    "    if start % 2 == 1:\n",
    "        start = start + 1\n",
    "        return list(range(start,2*n+start, 2))\n",
    "    else:\n",
    "        return list(range(start,2*n+start, 2))"
   ]
  },
  {
   "cell_type": "code",
   "execution_count": 32,
   "id": "0a2a5bc6",
   "metadata": {},
   "outputs": [
    {
     "data": {
      "text/plain": [
       "[6, 8, 10, 12, 14, 16, 18, 20, 22, 24]"
      ]
     },
     "execution_count": 32,
     "metadata": {},
     "output_type": "execute_result"
    }
   ],
   "source": [
    "even(5,10)"
   ]
  },
  {
   "cell_type": "code",
   "execution_count": 33,
   "id": "57b579f7",
   "metadata": {},
   "outputs": [
    {
     "data": {
      "text/plain": [
       "[4, 6, 8, 10, 12, 14, 16, 18, 20, 22]"
      ]
     },
     "execution_count": 33,
     "metadata": {},
     "output_type": "execute_result"
    }
   ],
   "source": [
    "even(4,10)"
   ]
  },
  {
   "cell_type": "code",
   "execution_count": null,
   "id": "ac995291",
   "metadata": {},
   "outputs": [],
   "source": []
  },
  {
   "cell_type": "code",
   "execution_count": 79,
   "id": "8086d542",
   "metadata": {},
   "outputs": [
    {
     "data": {
      "text/plain": [
       "[4, 6, 7, 3, 9]"
      ]
     },
     "execution_count": 79,
     "metadata": {},
     "output_type": "execute_result"
    }
   ],
   "source": [
    "n = [3, 5, 6, 2, 9]\n",
    "v = n\n",
    "j = 0\n",
    "for i in n:\n",
    "    if i != max(n):\n",
    "        n[j] = n[j]+1\n",
    "        j = j+1\n",
    "    else:\n",
    "        n[j] = n[j]\n",
    "        j = j+1\n",
    "n"
   ]
  },
  {
   "cell_type": "code",
   "execution_count": 72,
   "id": "b65e9cb7",
   "metadata": {},
   "outputs": [
    {
     "data": {
      "text/plain": [
       "1"
      ]
     },
     "execution_count": 72,
     "metadata": {},
     "output_type": "execute_result"
    }
   ],
   "source": [
    "n[0]"
   ]
  },
  {
   "cell_type": "code",
   "execution_count": 66,
   "id": "9a0e2320",
   "metadata": {},
   "outputs": [
    {
     "data": {
      "text/plain": [
       "True"
      ]
     },
     "execution_count": 66,
     "metadata": {},
     "output_type": "execute_result"
    }
   ],
   "source": [
    "min(n) == max(n)"
   ]
  },
  {
   "cell_type": "code",
   "execution_count": 103,
   "id": "98113a30",
   "metadata": {},
   "outputs": [
    {
     "name": "stdout",
     "output_type": "stream",
     "text": [
      "[6, 7, 8, 9, 6]\n",
      "[7, 8, 9, 9, 7]\n",
      "[8, 9, 9, 10, 8]\n",
      "[9, 10, 10, 10, 9]\n",
      "[10, 10, 11, 11, 10]\n",
      "[11, 11, 11, 12, 11]\n",
      "[12, 12, 12, 12, 12]\n"
     ]
    },
    {
     "data": {
      "text/plain": [
       "7"
      ]
     },
     "execution_count": 103,
     "metadata": {},
     "output_type": "execute_result"
    }
   ],
   "source": [
    "n = [5, 6, 8, 8, 5]\n",
    "v = n\n",
    "count = 0\n",
    "while max(v) != min(v):\n",
    "    j = 0\n",
    "    k = 0\n",
    "    for i in v:\n",
    "        if i == max(v) and k == 0:\n",
    "            v[j] = v[j]\n",
    "            j = j + 1\n",
    "            k = k+1\n",
    "        else:\n",
    "            v[j] = v[j]+1\n",
    "            j = j + 1            \n",
    "    print(v)\n",
    "    count = count+1\n",
    "count"
   ]
  },
  {
   "cell_type": "code",
   "execution_count": 107,
   "id": "7e8d58d8",
   "metadata": {},
   "outputs": [],
   "source": [
    "def countMoves(v):\n",
    "    count = 0\n",
    "    while max(v) != min(v):\n",
    "        j = 0\n",
    "        k = 0\n",
    "        for i in v:\n",
    "            if i == max(v) and k == 0:\n",
    "                v[j] = v[j]\n",
    "                j = j + 1\n",
    "                k = k + 1\n",
    "            else:\n",
    "                v[j] = v[j]+1\n",
    "                j = j + 1            \n",
    "        count = count+1\n",
    "    return count"
   ]
  },
  {
   "cell_type": "code",
   "execution_count": 108,
   "id": "6279d7f5",
   "metadata": {},
   "outputs": [
    {
     "data": {
      "text/plain": [
       "7"
      ]
     },
     "execution_count": 108,
     "metadata": {},
     "output_type": "execute_result"
    }
   ],
   "source": [
    "v = [5, 6, 8, 8, 5]\n",
    "countMoves(v)"
   ]
  },
  {
   "cell_type": "code",
   "execution_count": 110,
   "id": "0897d7ae",
   "metadata": {},
   "outputs": [
    {
     "data": {
      "text/plain": [
       "2"
      ]
     },
     "execution_count": 110,
     "metadata": {},
     "output_type": "execute_result"
    }
   ],
   "source": [
    "v = [5, 6, 8, 8, 5]\n",
    "v.index(max(v))"
   ]
  },
  {
   "cell_type": "code",
   "execution_count": 137,
   "id": "d2e81424",
   "metadata": {},
   "outputs": [
    {
     "name": "stdout",
     "output_type": "stream",
     "text": [
      "no [0, 2, [5, 6, 8, 8, 5]]\n",
      "no [1, 2, [6, 6, 8, 8, 5]]\n",
      "yes [2, 2, [6, 7, 8, 8, 5]]\n",
      "no [3, 2, [6, 7, 8, 8, 5]]\n",
      "no [4, 3, [6, 7, 8, 9, 5]]\n"
     ]
    },
    {
     "data": {
      "text/plain": [
       "[6, 7, 8, 9, 6]"
      ]
     },
     "execution_count": 137,
     "metadata": {},
     "output_type": "execute_result"
    }
   ],
   "source": [
    "v = [5, 6, 8, 8, 5]\n",
    "for i in range(0, len(v)):\n",
    "    if i == v.index(max(v)):\n",
    "        print(\"yes\", [i, v.index(max(v)), v])\n",
    "        v[i] = v[i]\n",
    "    else:\n",
    "        print(\"no\", [i, v.index(max(v)), v])\n",
    "        v[i] = v[i] + 1        \n",
    "v"
   ]
  },
  {
   "cell_type": "code",
   "execution_count": 129,
   "id": "653906fe",
   "metadata": {},
   "outputs": [
    {
     "data": {
      "text/plain": [
       "3"
      ]
     },
     "execution_count": 129,
     "metadata": {},
     "output_type": "execute_result"
    }
   ],
   "source": [
    "v.index(max(v))"
   ]
  },
  {
   "cell_type": "code",
   "execution_count": 130,
   "id": "c4382916",
   "metadata": {},
   "outputs": [
    {
     "data": {
      "text/plain": [
       "9"
      ]
     },
     "execution_count": 130,
     "metadata": {},
     "output_type": "execute_result"
    }
   ],
   "source": [
    "v[3]"
   ]
  },
  {
   "cell_type": "code",
   "execution_count": 145,
   "id": "cf048fe9",
   "metadata": {},
   "outputs": [
    {
     "name": "stdout",
     "output_type": "stream",
     "text": [
      "[6, 7, 8, 9, 6]\n",
      "[7, 8, 9, 9, 7]\n",
      "[8, 9, 9, 10, 8]\n",
      "[9, 10, 10, 10, 9]\n",
      "[10, 10, 11, 11, 10]\n",
      "[11, 11, 11, 12, 11]\n",
      "[12, 12, 12, 12, 12]\n"
     ]
    }
   ],
   "source": [
    "v = [5, 6, 8, 8, 5]\n",
    "count = 0\n",
    "while max(v) != min(v):\n",
    "    j = v.index(max(v))\n",
    "    for i in range(0, len(v)):\n",
    "        if i == j:\n",
    "            v[i] = v[i]\n",
    "        else:\n",
    "            v[i] = v[i] + 1\n",
    "    print(v)"
   ]
  },
  {
   "cell_type": "code",
   "execution_count": 149,
   "id": "8f073695",
   "metadata": {},
   "outputs": [],
   "source": [
    "def countMoves(v):\n",
    "    count = 0\n",
    "    while max(v) != min(v):\n",
    "        j = v.index(max(v))\n",
    "        for i in range(0, len(v)):\n",
    "            if i == j:\n",
    "                v[i] = v[i]\n",
    "            else:\n",
    "                v[i] = v[i] + 1         \n",
    "        count = count+1\n",
    "    return count"
   ]
  },
  {
   "cell_type": "code",
   "execution_count": 186,
   "id": "75503a39",
   "metadata": {},
   "outputs": [
    {
     "name": "stdout",
     "output_type": "stream",
     "text": [
      "--- 5.832620620727539 seconds --- [1680250, 1680250, 1680250, 1680250, 1680250, 1680250, 1680250, 1680250, 1680250, 1680250] 1644095\n"
     ]
    }
   ],
   "source": [
    "start_time = time.time()\n",
    "v = list(rndi(0, 456980, 10))\n",
    "ans = countMoves(v)\n",
    "print(\"--- %s seconds ---\" % (time.time() - start_time), v, ans)"
   ]
  },
  {
   "cell_type": "code",
   "execution_count": null,
   "id": "1a4871bb",
   "metadata": {},
   "outputs": [],
   "source": []
  },
  {
   "cell_type": "code",
   "execution_count": null,
   "id": "aafe1120",
   "metadata": {},
   "outputs": [],
   "source": []
  },
  {
   "cell_type": "code",
   "execution_count": null,
   "id": "240543ba",
   "metadata": {},
   "outputs": [],
   "source": []
  },
  {
   "cell_type": "code",
   "execution_count": null,
   "id": "80479951",
   "metadata": {},
   "outputs": [],
   "source": []
  }
 ],
 "metadata": {
  "kernelspec": {
   "display_name": "Python 3 (ipykernel)",
   "language": "python",
   "name": "python3"
  },
  "language_info": {
   "codemirror_mode": {
    "name": "ipython",
    "version": 3
   },
   "file_extension": ".py",
   "mimetype": "text/x-python",
   "name": "python",
   "nbconvert_exporter": "python",
   "pygments_lexer": "ipython3",
   "version": "3.9.7"
  }
 },
 "nbformat": 4,
 "nbformat_minor": 5
}
